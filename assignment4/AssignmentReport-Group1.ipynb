{
 "cells": [
  {
   "cell_type": "markdown",
   "metadata": {},
   "source": [
    "# Assignment 1 Report"
   ]
  },
  {
   "cell_type": "markdown",
   "metadata": {},
   "source": [
    "# Task 1"
   ]
  },
  {
   "cell_type": "markdown",
   "metadata": {},
   "source": [
    "## task 1a)\n",
    "\n",
    "The Intersection over Union ($IoU$) is an evaluation metric to measure the accuracy of a prediction in object detection. We find it by calculating the area (sum of pixels) of the interesection between two overlapping bounding boxes divided by the union of the same. In Figure 1 we see how the green boxes illustrate the original object detection area, i.e. the ground-truth bounding boxes, while the red ones illustrate the models predicted bounding box. We may then calulate the Intersection over the union by diving the area A over B. Hence, we see that the $IoU$ is limited between 0 and 1 and the higher the number means higher accuracy.\n",
    "\n",
    "\n",
    "![](img/task1_IoU.png)\n",
    "**_Figure 1:_** *Illustration of the intersection (left) and union (right) between the ground-truth and predicted bounding boxes*\n"
   ]
  },
  {
   "cell_type": "markdown",
   "metadata": {},
   "source": [
    "## task 1b)\n",
    "\n",
    "A true positive ($TP$) is a correct prediction of a class, while a false positive ($FP$) is an incorrect prediction of a class. Equations for precision and recall are given by\n",
    "\n",
    "\\begin{align}\n",
    "    precision &= \\frac{TP}{TP + FP} \\\\\n",
    "    recall &= \\frac{TP}{TP + FN},\n",
    "\\end{align}\n",
    "\n",
    "respectively. $FN$ represents a false negative, that is, a prediction that something is not an object when it in fact was.\n",
    "\n",
    "## task 1c)\n",
    "\n",
    "The average precision for a class is given by\n",
    "\n",
    "\\begin{align}\n",
    "    AP = \\int_{0}^{1}{p(r) dr}.\n",
    "\\end{align}\n",
    "\n",
    "We approximate this by calculating the average precision for each class using recall levels at $0.0, 0.1, 0.2, ..., 0.9, 1.0$ (See figure below for code plotting corresponding curves). The average precision for each class thus becomes\n",
    "\n",
    "\\begin{align}\n",
    "    AP_{C_1} &= \\frac{(5 \\times 1 + 3 \\times 0.5 + 3 \\times 0.2)}{11} = 0.6455, \\\\\n",
    "    AP_{C_2} &= \\frac{(4 \\times 1 + 1 \\times 0.8 + 1 \\times 0.6 + 2 \\times 0.5 + 3 \\times 0.2)}{11} = 0.6364.\n",
    "\\end{align}\n",
    "\n",
    "To obtain the mean average precision ($mAP$), we then take the mean over all classes $C$ to obtain\n",
    "\n",
    "\\begin{align}\n",
    "    mAP &= \\frac{1}{|C|} \\sum_{c \\in C}{AP_c} = \\frac{0.6455 + 0.636}{2} = 0.641.\n",
    "\\end{align}"
   ]
  },
  {
   "cell_type": "code",
   "execution_count": 28,
   "metadata": {},
   "outputs": [
    {
     "data": {
      "image/png": "[encoded data removed]",
      "text/plain": [
       "<Figure size 1440x360 with 2 Axes>"
      ]
     },
     "metadata": {
      "needs_background": "light"
     },
     "output_type": "display_data"
    }
   ],
   "source": [
    "import matplotlib.pyplot as plt\n",
    "import numpy as np\n",
    "\n",
    "# Precision and recall curve for class 1:\n",
    "Precision1 = [1.0, 1.0, 1.0, 1.0, 0.5, 0.20]\n",
    "Recall1 = [0.0, 0.05, 0.1, 0.4, 0.7, 1.0]\n",
    "\n",
    "# Precision and recall curve for class 2:\n",
    "Precision2 = [1.0, 1.0, 0.80, 0.60, 0.5, 0.20]\n",
    "Recall2 = [0.0, 0.3, 0.4, 0.5, 0.7, 1.0]\n",
    "\n",
    "f, (ax1, ax2) = plt.subplots(1, 2, figsize=(20, 5))\n",
    "x_axis = np.linspace(0.0, 1.0, 11)\n",
    "\n",
    "ax1.step(Recall1, Precision1)\n",
    "ax1.set_xlabel('Recall')\n",
    "ax1.set_xticks(x_axis)\n",
    "ax1.set_ylabel('Precision')\n",
    "ax1.set_title('Class 1')\n",
    "ax1.grid(True)\n",
    "\n",
    "ax2.step(Recall2, Precision2)\n",
    "ax2.set_xlabel('Recall')\n",
    "ax2.set_xticks(x_axis)\n",
    "ax2.set_ylabel('Precision')\n",
    "ax2.set_title('Class 2')\n",
    "ax2.grid(True)\n",
    "\n",
    "plt.show()"
   ]
  },
  {
   "cell_type": "markdown",
   "metadata": {},
   "source": [
    "# Task 2\n",
    "\n",
    "### Task 2f)\n",
    "\n",
    "![](img/precision_recall_curve.png)\n",
    "**_Figure 2:_** *Final precision-recall curve*"
   ]
  },
  {
   "cell_type": "markdown",
   "metadata": {},
   "source": [
    "# Task 3"
   ]
  },
  {
   "cell_type": "markdown",
   "metadata": {},
   "source": [
    "### Task 3a)\n",
    "\n",
    "The filtering operation used in SSD is called non-maximum suppression (nms).\n",
    "\n",
    "### Task 3b)\n",
    "\n",
    "The statement is false. The opposite is true, that the predictions from deepers layers detect larger objects.\n",
    "\n",
    "### Task 3c)\n",
    "\n",
    "The reason for using different bounding box aspect ratios at the same spatial location is to obtain faster and more stable convergence. This happens since the different classes can have different shapes, and aspect ratios detect different objects and shapes.\n",
    "\n",
    "### Task 3d)\n",
    "\n",
    "The main difference between SSD and YOLOv1/v2 is that the latter used a single scale feature map for detection, while the first uses multi-scale feature maps.\n",
    "\n",
    "### Task 3e)\n",
    "\n",
    "For this feature map we would have a total of $38 \\times 38 \\times 6 = 8,664$ anchor boxes.\n",
    "\n",
    "### Task 3f)\n",
    "\n",
    "There is a total of $6 \\times (38 \\times 38 + 19 \\times 19 + 10 \\times 10 + 5 \\times 5 + 3 \\times 3 + 1 \\times 1) = 11,640$ anchor boxes for the entire network.\n"
   ]
  },
  {
   "cell_type": "markdown",
   "metadata": {},
   "source": [
    "# Task 4"
   ]
  },
  {
   "cell_type": "markdown",
   "metadata": {},
   "source": [
    "## Task 4b)\n",
    "\n",
    "Figure 3 shows the total loss over ~11k iterations while the final mean average precision (mAP@0.5) was 0.7536.\n",
    "\n",
    "![](img/task4b.png)\n",
    "**_Figure 3:_** *loss/total loss over 11k iterations.*\n",
    "\n",
    "## Task 4c)\n",
    "\n",
    "\n",
    "\n",
    "## Task 4d)\n",
    "FILL IN ANSWER. \n",
    "\n",
    "\n",
    "## Task 4e)\n",
    "FILL IN ANSWER. \n",
    "\n",
    "\n",
    "## Task 4f)\n",
    "FILL IN ANSWER. "
   ]
  }
 ],
 "metadata": {
  "kernelspec": {
   "display_name": "Python 3.8.1 64-bit ('py38': conda)",
   "language": "python",
   "name": "python38164bitpy38condac1f68ca5407a4349b0d7e37676f2fbb3"
  },
  "language_info": {
   "codemirror_mode": {
    "name": "ipython",
    "version": 3
   },
   "file_extension": ".py",
   "mimetype": "text/x-python",
   "name": "python",
   "nbconvert_exporter": "python",
   "pygments_lexer": "ipython3",
   "version": "3.8.1"
  }
 },
 "nbformat": 4,
 "nbformat_minor": 4
}
